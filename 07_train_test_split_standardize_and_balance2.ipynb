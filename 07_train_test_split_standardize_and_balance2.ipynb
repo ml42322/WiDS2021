{
 "cells": [
  {
   "cell_type": "code",
   "execution_count": 1,
   "id": "prescribed-asian",
   "metadata": {},
   "outputs": [],
   "source": [
    "import pandas as pd\n",
    "import numpy as np"
   ]
  },
  {
   "cell_type": "code",
   "execution_count": 2,
   "id": "continuous-composite",
   "metadata": {},
   "outputs": [],
   "source": [
    "# df = pd.read_csv('training_clean_and_complete.csv')"
   ]
  },
  {
   "cell_type": "code",
   "execution_count": 3,
   "id": "piano-advantage",
   "metadata": {},
   "outputs": [],
   "source": [
    "# df.columns"
   ]
  },
  {
   "cell_type": "code",
   "execution_count": 4,
   "id": "adequate-yield",
   "metadata": {},
   "outputs": [],
   "source": [
    "# # Let's drop the first column\n",
    "# df = df.drop(df.columns[0], axis=1)"
   ]
  },
  {
   "cell_type": "code",
   "execution_count": 5,
   "id": "hollow-rogers",
   "metadata": {},
   "outputs": [],
   "source": [
    "# # Let's move our target variable to the end of the df\n",
    "# col = df.pop(\"diabetes_mellitus\")\n",
    "# df.insert(143, col.name, col)"
   ]
  },
  {
   "cell_type": "code",
   "execution_count": 6,
   "id": "planned-picture",
   "metadata": {},
   "outputs": [],
   "source": [
    "# # Let's rewrite our training dataset\n",
    "# df.to_csv(\"training_final.csv\", encoding='utf-8', index=True)"
   ]
  },
  {
   "cell_type": "code",
   "execution_count": 7,
   "id": "australian-china",
   "metadata": {},
   "outputs": [],
   "source": [
    "df = pd.read_csv('training_final.csv')"
   ]
  },
  {
   "cell_type": "code",
   "execution_count": 8,
   "id": "phantom-jewelry",
   "metadata": {},
   "outputs": [
    {
     "data": {
      "text/plain": [
       "Index(['Unnamed: 0', 'encounter_id', 'hospital_id', 'elective_surgery',\n",
       "       'icu_id', 'readmission_status', 'apache_post_operative', 'arf_apache',\n",
       "       'gcs_unable_apache', 'intubated_apache',\n",
       "       ...\n",
       "       'd1_hematocrit_min', 'd1_platelets_max', 'd1_platelets_min',\n",
       "       'd1_potassium_max', 'd1_potassium_min', 'd1_sodium_max',\n",
       "       'd1_sodium_min', 'd1_wbc_max', 'd1_wbc_min', 'diabetes_mellitus'],\n",
       "      dtype='object', length=145)"
      ]
     },
     "execution_count": 8,
     "metadata": {},
     "output_type": "execute_result"
    }
   ],
   "source": [
    "df.columns"
   ]
  },
  {
   "cell_type": "code",
   "execution_count": 9,
   "id": "scenic-pension",
   "metadata": {},
   "outputs": [],
   "source": [
    "# Let's drop the first column\n",
    "df = df.drop(df.columns[0], axis=1)"
   ]
  },
  {
   "cell_type": "code",
   "execution_count": 10,
   "id": "divine-blocking",
   "metadata": {},
   "outputs": [
    {
     "data": {
      "text/html": [
       "<div>\n",
       "<style scoped>\n",
       "    .dataframe tbody tr th:only-of-type {\n",
       "        vertical-align: middle;\n",
       "    }\n",
       "\n",
       "    .dataframe tbody tr th {\n",
       "        vertical-align: top;\n",
       "    }\n",
       "\n",
       "    .dataframe thead th {\n",
       "        text-align: right;\n",
       "    }\n",
       "</style>\n",
       "<table border=\"1\" class=\"dataframe\">\n",
       "  <thead>\n",
       "    <tr style=\"text-align: right;\">\n",
       "      <th></th>\n",
       "      <th>encounter_id</th>\n",
       "      <th>hospital_id</th>\n",
       "      <th>elective_surgery</th>\n",
       "      <th>icu_id</th>\n",
       "      <th>readmission_status</th>\n",
       "      <th>apache_post_operative</th>\n",
       "      <th>arf_apache</th>\n",
       "      <th>gcs_unable_apache</th>\n",
       "      <th>intubated_apache</th>\n",
       "      <th>ventilated_apache</th>\n",
       "      <th>...</th>\n",
       "      <th>d1_hematocrit_min</th>\n",
       "      <th>d1_platelets_max</th>\n",
       "      <th>d1_platelets_min</th>\n",
       "      <th>d1_potassium_max</th>\n",
       "      <th>d1_potassium_min</th>\n",
       "      <th>d1_sodium_max</th>\n",
       "      <th>d1_sodium_min</th>\n",
       "      <th>d1_wbc_max</th>\n",
       "      <th>d1_wbc_min</th>\n",
       "      <th>diabetes_mellitus</th>\n",
       "    </tr>\n",
       "  </thead>\n",
       "  <tbody>\n",
       "    <tr>\n",
       "      <th>0</th>\n",
       "      <td>214826</td>\n",
       "      <td>118</td>\n",
       "      <td>0</td>\n",
       "      <td>92</td>\n",
       "      <td>0</td>\n",
       "      <td>0</td>\n",
       "      <td>0</td>\n",
       "      <td>0</td>\n",
       "      <td>0</td>\n",
       "      <td>0</td>\n",
       "      <td>...</td>\n",
       "      <td>36.1</td>\n",
       "      <td>557</td>\n",
       "      <td>487.0</td>\n",
       "      <td>4.2</td>\n",
       "      <td>3.8</td>\n",
       "      <td>145.0</td>\n",
       "      <td>145.0</td>\n",
       "      <td>23.3</td>\n",
       "      <td>12.7</td>\n",
       "      <td>1</td>\n",
       "    </tr>\n",
       "    <tr>\n",
       "      <th>1</th>\n",
       "      <td>246060</td>\n",
       "      <td>81</td>\n",
       "      <td>0</td>\n",
       "      <td>90</td>\n",
       "      <td>0</td>\n",
       "      <td>0</td>\n",
       "      <td>0</td>\n",
       "      <td>0</td>\n",
       "      <td>0</td>\n",
       "      <td>1</td>\n",
       "      <td>...</td>\n",
       "      <td>33.2</td>\n",
       "      <td>194</td>\n",
       "      <td>185.0</td>\n",
       "      <td>4.2</td>\n",
       "      <td>3.9</td>\n",
       "      <td>139.0</td>\n",
       "      <td>138.0</td>\n",
       "      <td>11.1</td>\n",
       "      <td>10.1</td>\n",
       "      <td>1</td>\n",
       "    </tr>\n",
       "    <tr>\n",
       "      <th>2</th>\n",
       "      <td>276985</td>\n",
       "      <td>118</td>\n",
       "      <td>0</td>\n",
       "      <td>93</td>\n",
       "      <td>0</td>\n",
       "      <td>0</td>\n",
       "      <td>0</td>\n",
       "      <td>0</td>\n",
       "      <td>0</td>\n",
       "      <td>0</td>\n",
       "      <td>...</td>\n",
       "      <td>25.9</td>\n",
       "      <td>198</td>\n",
       "      <td>43.0</td>\n",
       "      <td>5.0</td>\n",
       "      <td>3.5</td>\n",
       "      <td>139.0</td>\n",
       "      <td>138.0</td>\n",
       "      <td>9.0</td>\n",
       "      <td>8.0</td>\n",
       "      <td>0</td>\n",
       "    </tr>\n",
       "    <tr>\n",
       "      <th>3</th>\n",
       "      <td>262220</td>\n",
       "      <td>118</td>\n",
       "      <td>1</td>\n",
       "      <td>92</td>\n",
       "      <td>0</td>\n",
       "      <td>1</td>\n",
       "      <td>0</td>\n",
       "      <td>0</td>\n",
       "      <td>1</td>\n",
       "      <td>1</td>\n",
       "      <td>...</td>\n",
       "      <td>33.2</td>\n",
       "      <td>194</td>\n",
       "      <td>185.0</td>\n",
       "      <td>4.2</td>\n",
       "      <td>3.9</td>\n",
       "      <td>139.0</td>\n",
       "      <td>138.0</td>\n",
       "      <td>11.1</td>\n",
       "      <td>10.1</td>\n",
       "      <td>0</td>\n",
       "    </tr>\n",
       "    <tr>\n",
       "      <th>4</th>\n",
       "      <td>201746</td>\n",
       "      <td>33</td>\n",
       "      <td>0</td>\n",
       "      <td>91</td>\n",
       "      <td>0</td>\n",
       "      <td>0</td>\n",
       "      <td>0</td>\n",
       "      <td>0</td>\n",
       "      <td>0</td>\n",
       "      <td>0</td>\n",
       "      <td>...</td>\n",
       "      <td>44.2</td>\n",
       "      <td>159</td>\n",
       "      <td>159.0</td>\n",
       "      <td>3.9</td>\n",
       "      <td>3.7</td>\n",
       "      <td>137.0</td>\n",
       "      <td>137.0</td>\n",
       "      <td>10.9</td>\n",
       "      <td>10.9</td>\n",
       "      <td>0</td>\n",
       "    </tr>\n",
       "  </tbody>\n",
       "</table>\n",
       "<p>5 rows × 144 columns</p>\n",
       "</div>"
      ],
      "text/plain": [
       "   encounter_id  hospital_id  elective_surgery  icu_id  readmission_status  \\\n",
       "0        214826          118                 0      92                   0   \n",
       "1        246060           81                 0      90                   0   \n",
       "2        276985          118                 0      93                   0   \n",
       "3        262220          118                 1      92                   0   \n",
       "4        201746           33                 0      91                   0   \n",
       "\n",
       "   apache_post_operative  arf_apache  gcs_unable_apache  intubated_apache  \\\n",
       "0                      0           0                  0                 0   \n",
       "1                      0           0                  0                 0   \n",
       "2                      0           0                  0                 0   \n",
       "3                      1           0                  0                 1   \n",
       "4                      0           0                  0                 0   \n",
       "\n",
       "   ventilated_apache  ...  d1_hematocrit_min  d1_platelets_max  \\\n",
       "0                  0  ...               36.1               557   \n",
       "1                  1  ...               33.2               194   \n",
       "2                  0  ...               25.9               198   \n",
       "3                  1  ...               33.2               194   \n",
       "4                  0  ...               44.2               159   \n",
       "\n",
       "   d1_platelets_min  d1_potassium_max  d1_potassium_min  d1_sodium_max  \\\n",
       "0             487.0               4.2               3.8          145.0   \n",
       "1             185.0               4.2               3.9          139.0   \n",
       "2              43.0               5.0               3.5          139.0   \n",
       "3             185.0               4.2               3.9          139.0   \n",
       "4             159.0               3.9               3.7          137.0   \n",
       "\n",
       "   d1_sodium_min  d1_wbc_max  d1_wbc_min  diabetes_mellitus  \n",
       "0          145.0        23.3        12.7                  1  \n",
       "1          138.0        11.1        10.1                  1  \n",
       "2          138.0         9.0         8.0                  0  \n",
       "3          138.0        11.1        10.1                  0  \n",
       "4          137.0        10.9        10.9                  0  \n",
       "\n",
       "[5 rows x 144 columns]"
      ]
     },
     "execution_count": 10,
     "metadata": {},
     "output_type": "execute_result"
    }
   ],
   "source": [
    "df.head()"
   ]
  },
  {
   "cell_type": "markdown",
   "id": "norwegian-hierarchy",
   "metadata": {},
   "source": [
    "## Create X (matrix of features) and y (target variable vector)"
   ]
  },
  {
   "cell_type": "code",
   "execution_count": 11,
   "id": "characteristic-solid",
   "metadata": {},
   "outputs": [],
   "source": [
    "X = df.iloc[:, :-1].values\n",
    "y = df.iloc[:, -1].values"
   ]
  },
  {
   "cell_type": "markdown",
   "id": "better-comparison",
   "metadata": {},
   "source": [
    "## Split data into train and test set"
   ]
  },
  {
   "cell_type": "code",
   "execution_count": 12,
   "id": "fixed-entry",
   "metadata": {},
   "outputs": [],
   "source": [
    "# We'll split using the 30/70 rule, that is 30% of data will be our test and 70% will be our training\n",
    "from sklearn.model_selection import train_test_split\n",
    "X_train, X_test, y_train, y_test = train_test_split(X, y, test_size = 0.3, random_state = 1)"
   ]
  },
  {
   "cell_type": "markdown",
   "id": "dental-removal",
   "metadata": {},
   "source": [
    "## Feature Scaling"
   ]
  },
  {
   "cell_type": "code",
   "execution_count": 13,
   "id": "swiss-quality",
   "metadata": {},
   "outputs": [
    {
     "data": {
      "text/plain": [
       "0         77\n",
       "1         25\n",
       "2         81\n",
       "3         19\n",
       "4         67\n",
       "          ..\n",
       "130151    50\n",
       "130152    79\n",
       "130153    73\n",
       "130154    81\n",
       "130155    35\n",
       "Name: age, Length: 130156, dtype: int64"
      ]
     },
     "execution_count": 13,
     "metadata": {},
     "output_type": "execute_result"
    }
   ],
   "source": [
    "# Chceck to make sure that the 60th column is the first numerical column -- it should be age\n",
    "df.iloc[:, 60]"
   ]
  },
  {
   "cell_type": "code",
   "execution_count": 14,
   "id": "greek-claim",
   "metadata": {},
   "outputs": [],
   "source": [
    "from sklearn import preprocessing"
   ]
  },
  {
   "cell_type": "code",
   "execution_count": 15,
   "id": "accurate-commons",
   "metadata": {},
   "outputs": [],
   "source": [
    "from sklearn.preprocessing import StandardScaler\n",
    "sc = StandardScaler()\n",
    "# Note that thte 60th column is a\n",
    "X_train[:, 60:] = sc.fit_transform(X_train[:, 60:])\n",
    "X_test[:, 60:] = sc.transform(X_test[:, 60:])"
   ]
  },
  {
   "cell_type": "markdown",
   "id": "further-enterprise",
   "metadata": {},
   "source": [
    "## Rebalance training dataset"
   ]
  },
  {
   "cell_type": "code",
   "execution_count": 16,
   "id": "popular-roads",
   "metadata": {},
   "outputs": [
    {
     "name": "stdout",
     "output_type": "stream",
     "text": [
      "Class 0: 102005\n",
      "Class 1: 28151\n",
      "Proportion: 3.62 : 1\n"
     ]
    }
   ],
   "source": [
    "# Check balance\n",
    "target_count = df['diabetes_mellitus'].value_counts()\n",
    "print('Class 0:', target_count[0])\n",
    "print('Class 1:', target_count[1])\n",
    "print('Proportion:', round(target_count[0] / target_count[1], 2), ': 1')"
   ]
  },
  {
   "cell_type": "code",
   "execution_count": 17,
   "id": "sorted-direction",
   "metadata": {},
   "outputs": [
    {
     "data": {
      "image/png": "[encoded data removed]",
      "text/plain": [
       "<Figure size 432x288 with 1 Axes>"
      ]
     },
     "metadata": {
      "needs_background": "light"
     },
     "output_type": "display_data"
    }
   ],
   "source": [
    "target_count.plot(kind='bar', title='Count (target)');"
   ]
  },
  {
   "cell_type": "code",
   "execution_count": 18,
   "id": "organized-setting",
   "metadata": {},
   "outputs": [],
   "source": [
    "from sklearn.utils import resample\n",
    "\n",
    "# Separate majority and minority classes\n",
    "df_majority = df[df.diabetes_mellitus==0]\n",
    "df_minority = df[df.diabetes_mellitus==1]\n",
    " "
   ]
  },
  {
   "cell_type": "markdown",
   "id": "million-courage",
   "metadata": {},
   "source": [
    "### Under sampling/Down Sampling"
   ]
  },
  {
   "cell_type": "code",
   "execution_count": 19,
   "id": "hairy-court",
   "metadata": {},
   "outputs": [],
   "source": [
    "# # Downsample majojrity class\n",
    "# df_majority_downsampled = resample(df_majority, \n",
    "#                                  replace=True,     # sample with replacement\n",
    "#                                  n_samples=40000,    # to get a 40-60\n",
    "#                                  random_state=123) # reproducible results\n",
    " \n",
    "# # Combine majority class with upsampled minority class\n",
    "# df_downsampled = pd.concat([df_majority_downsampled, df_minority])\n",
    " \n",
    "# # Display new class counts\n",
    "# df_downsampled.diabetes_mellitus.value_counts()"
   ]
  },
  {
   "cell_type": "code",
   "execution_count": 20,
   "id": "eastern-induction",
   "metadata": {},
   "outputs": [
    {
     "name": "stdout",
     "output_type": "stream",
     "text": [
      "50154\n",
      "91109\n",
      "50154\n",
      "91109\n"
     ]
    }
   ],
   "source": [
    "from imblearn.under_sampling import RandomUnderSampler\n",
    "\n",
    "rus = RandomUnderSampler(sampling_strategy=.65, random_state=50, replacement=False) \n",
    "# sample without replacement\n",
    "# sampling strategy =.65 allows for 40/60 balance of target variable\n",
    "# corresponds to the desired ratio of the number of samples in the minority class \n",
    "# over the number of samples in the majority class after resampling\n",
    "X_rus, y_rus = rus.fit_sample(X_train, y_train)\n",
    "\n",
    "# Check how many observations were removed -- looks like about 50,000\n",
    "print(len(X_rus))\n",
    "print(len(X_train))\n",
    "print(len(y_rus))\n",
    "print(len(y_train))"
   ]
  },
  {
   "cell_type": "code",
   "execution_count": 21,
   "id": "fluid-array",
   "metadata": {},
   "outputs": [
    {
     "name": "stdout",
     "output_type": "stream",
     "text": [
      "Resampled dataset shape Counter({0: 30396, 1: 19758})\n"
     ]
    }
   ],
   "source": [
    "from collections import Counter\n",
    "print('Resampled dataset shape %s' % Counter(y_rus))"
   ]
  },
  {
   "cell_type": "markdown",
   "id": "regional-exhibition",
   "metadata": {},
   "source": [
    "### Over sampling/Up Sampling"
   ]
  },
  {
   "cell_type": "code",
   "execution_count": 22,
   "id": "complex-burton",
   "metadata": {},
   "outputs": [],
   "source": [
    "# # Upsample minority class\n",
    "# df_minority_upsampled = resample(df_minority, \n",
    "#                                  replace=True,     # sample with replacement\n",
    "#                                  n_samples=70000,    # to get a 40-60\n",
    "#                                  random_state=123) # reproducible results\n",
    " \n",
    "# # Combine majority class with upsampled minority class\n",
    "# df_upsampled = pd.concat([df_majority, df_minority_upsampled])\n",
    " \n",
    "# # Display new class counts\n",
    "# df_upsampled.diabetes_mellitus.value_counts()"
   ]
  },
  {
   "cell_type": "code",
   "execution_count": 23,
   "id": "applicable-lesson",
   "metadata": {},
   "outputs": [],
   "source": [
    "from imblearn.over_sampling import RandomOverSampler\n",
    "\n",
    "ros = RandomOverSampler(sampling_strategy=.65, random_state=50)\n",
    "# sampling strategy =.65 allows for 40/60 balance of target variable (40% - 0 and 60% - 1)\n",
    "# sampling strategy corresponds to the desired ratio of the number of samples in the minority class \n",
    "# over the number of samples in the majority class after resampling. \n",
    "X_ros, y_ros = ros.fit_sample(X_train, y_train)"
   ]
  },
  {
   "cell_type": "code",
   "execution_count": 24,
   "id": "annual-malaysia",
   "metadata": {},
   "outputs": [
    {
     "name": "stdout",
     "output_type": "stream",
     "text": [
      "117729\n",
      "91109\n",
      "117729\n",
      "91109\n"
     ]
    }
   ],
   "source": [
    "print(len(X_ros))\n",
    "print(len(X_train))\n",
    "print(len(y_ros))\n",
    "print(len(y_train))"
   ]
  },
  {
   "cell_type": "code",
   "execution_count": 25,
   "id": "pressed-abraham",
   "metadata": {},
   "outputs": [
    {
     "name": "stdout",
     "output_type": "stream",
     "text": [
      "Resampled dataset shape Counter({0: 71351, 1: 46378})\n"
     ]
    }
   ],
   "source": [
    "print('Resampled dataset shape %s' % Counter(y_ros))"
   ]
  }
 ],
 "metadata": {
  "kernelspec": {
   "display_name": "Python 3",
   "language": "python",
   "name": "python3"
  },
  "language_info": {
   "codemirror_mode": {
    "name": "ipython",
    "version": 3
   },
   "file_extension": ".py",
   "mimetype": "text/x-python",
   "name": "python",
   "nbconvert_exporter": "python",
   "pygments_lexer": "ipython3",
   "version": "3.8.5"
  }
 },
 "nbformat": 4,
 "nbformat_minor": 5
}
