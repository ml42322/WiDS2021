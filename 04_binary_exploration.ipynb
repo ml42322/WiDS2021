{
 "cells": [
  {
   "cell_type": "code",
   "execution_count": 1,
   "id": "hazardous-bikini",
   "metadata": {},
   "outputs": [],
   "source": [
    "import numpy as np\n",
    "import pandas as pd\n",
    "import matplotlib.pyplot as plt\n",
    "import seaborn as sns\n",
    "import plotly.express as px  # try plotly, it's amazing\n",
    "sns.set_theme(style=\"ticks\", color_codes=True)"
   ]
  },
  {
   "cell_type": "code",
   "execution_count": 2,
   "id": "representative-police",
   "metadata": {},
   "outputs": [],
   "source": [
    "df = pd.read_csv('TrainingWiDS2021.csv')"
   ]
  },
  {
   "cell_type": "code",
   "execution_count": 3,
   "id": "boolean-photograph",
   "metadata": {},
   "outputs": [
    {
     "data": {
      "text/html": [
       "<div>\n",
       "<style scoped>\n",
       "    .dataframe tbody tr th:only-of-type {\n",
       "        vertical-align: middle;\n",
       "    }\n",
       "\n",
       "    .dataframe tbody tr th {\n",
       "        vertical-align: top;\n",
       "    }\n",
       "\n",
       "    .dataframe thead th {\n",
       "        text-align: right;\n",
       "    }\n",
       "</style>\n",
       "<table border=\"1\" class=\"dataframe\">\n",
       "  <thead>\n",
       "    <tr style=\"text-align: right;\">\n",
       "      <th></th>\n",
       "      <th>ethnicity</th>\n",
       "      <th>gender</th>\n",
       "      <th>hospital_admit_source</th>\n",
       "      <th>icu_admit_source</th>\n",
       "      <th>icu_stay_type</th>\n",
       "      <th>icu_type</th>\n",
       "    </tr>\n",
       "  </thead>\n",
       "  <tbody>\n",
       "    <tr>\n",
       "      <th>0</th>\n",
       "      <td>Caucasian</td>\n",
       "      <td>M</td>\n",
       "      <td>Floor</td>\n",
       "      <td>Floor</td>\n",
       "      <td>admit</td>\n",
       "      <td>CTICU</td>\n",
       "    </tr>\n",
       "    <tr>\n",
       "      <th>1</th>\n",
       "      <td>Caucasian</td>\n",
       "      <td>F</td>\n",
       "      <td>Floor</td>\n",
       "      <td>Floor</td>\n",
       "      <td>admit</td>\n",
       "      <td>Med-Surg ICU</td>\n",
       "    </tr>\n",
       "    <tr>\n",
       "      <th>2</th>\n",
       "      <td>Caucasian</td>\n",
       "      <td>F</td>\n",
       "      <td>Emergency Department</td>\n",
       "      <td>Accident &amp; Emergency</td>\n",
       "      <td>admit</td>\n",
       "      <td>Med-Surg ICU</td>\n",
       "    </tr>\n",
       "    <tr>\n",
       "      <th>3</th>\n",
       "      <td>Caucasian</td>\n",
       "      <td>F</td>\n",
       "      <td>Operating Room</td>\n",
       "      <td>Operating Room / Recovery</td>\n",
       "      <td>admit</td>\n",
       "      <td>CTICU</td>\n",
       "    </tr>\n",
       "    <tr>\n",
       "      <th>4</th>\n",
       "      <td>Caucasian</td>\n",
       "      <td>M</td>\n",
       "      <td>NaN</td>\n",
       "      <td>Accident &amp; Emergency</td>\n",
       "      <td>admit</td>\n",
       "      <td>Med-Surg ICU</td>\n",
       "    </tr>\n",
       "  </tbody>\n",
       "</table>\n",
       "</div>"
      ],
      "text/plain": [
       "   ethnicity gender hospital_admit_source           icu_admit_source  \\\n",
       "0  Caucasian      M                 Floor                      Floor   \n",
       "1  Caucasian      F                 Floor                      Floor   \n",
       "2  Caucasian      F  Emergency Department       Accident & Emergency   \n",
       "3  Caucasian      F        Operating Room  Operating Room / Recovery   \n",
       "4  Caucasian      M                   NaN       Accident & Emergency   \n",
       "\n",
       "  icu_stay_type      icu_type  \n",
       "0         admit         CTICU  \n",
       "1         admit  Med-Surg ICU  \n",
       "2         admit  Med-Surg ICU  \n",
       "3         admit         CTICU  \n",
       "4         admit  Med-Surg ICU  "
      ]
     },
     "execution_count": 3,
     "metadata": {},
     "output_type": "execute_result"
    }
   ],
   "source": [
    "categorical_features = [feature for feature in df.columns if df[feature].dtype == 'O']\n",
    "df[categorical_features].head()"
   ]
  },
  {
   "cell_type": "code",
   "execution_count": 4,
   "id": "assisted-nirvana",
   "metadata": {},
   "outputs": [
    {
     "data": {
      "text/plain": [
       "(130157, 175)"
      ]
     },
     "execution_count": 4,
     "metadata": {},
     "output_type": "execute_result"
    }
   ],
   "source": [
    "numerical_features = [feature for feature in df.columns if df[feature].dtype != 'O']\n",
    "df[numerical_features].shape"
   ]
  },
  {
   "cell_type": "code",
   "execution_count": 5,
   "id": "large-saskatchewan",
   "metadata": {},
   "outputs": [
    {
     "name": "stdout",
     "output_type": "stream",
     "text": [
      "Total binary:  14\n"
     ]
    }
   ],
   "source": [
    "binary_features = [feature for feature in numerical_features if df[feature].nunique() == 2]\n",
    "print(\"Total binary: \", len(binary_features))"
   ]
  },
  {
   "cell_type": "code",
   "execution_count": 6,
   "id": "voluntary-security",
   "metadata": {},
   "outputs": [
    {
     "data": {
      "text/html": [
       "<div>\n",
       "<style scoped>\n",
       "    .dataframe tbody tr th:only-of-type {\n",
       "        vertical-align: middle;\n",
       "    }\n",
       "\n",
       "    .dataframe tbody tr th {\n",
       "        vertical-align: top;\n",
       "    }\n",
       "\n",
       "    .dataframe thead th {\n",
       "        text-align: right;\n",
       "    }\n",
       "</style>\n",
       "<table border=\"1\" class=\"dataframe\">\n",
       "  <thead>\n",
       "    <tr style=\"text-align: right;\">\n",
       "      <th></th>\n",
       "      <th>elective_surgery</th>\n",
       "      <th>apache_post_operative</th>\n",
       "      <th>arf_apache</th>\n",
       "      <th>gcs_unable_apache</th>\n",
       "      <th>intubated_apache</th>\n",
       "      <th>ventilated_apache</th>\n",
       "      <th>aids</th>\n",
       "      <th>cirrhosis</th>\n",
       "      <th>hepatic_failure</th>\n",
       "      <th>immunosuppression</th>\n",
       "      <th>leukemia</th>\n",
       "      <th>lymphoma</th>\n",
       "      <th>solid_tumor_with_metastasis</th>\n",
       "      <th>diabetes_mellitus</th>\n",
       "    </tr>\n",
       "  </thead>\n",
       "  <tbody>\n",
       "    <tr>\n",
       "      <th>0</th>\n",
       "      <td>0</td>\n",
       "      <td>0</td>\n",
       "      <td>0</td>\n",
       "      <td>0.0</td>\n",
       "      <td>0</td>\n",
       "      <td>0</td>\n",
       "      <td>0</td>\n",
       "      <td>0</td>\n",
       "      <td>0</td>\n",
       "      <td>0</td>\n",
       "      <td>0</td>\n",
       "      <td>0</td>\n",
       "      <td>0</td>\n",
       "      <td>1</td>\n",
       "    </tr>\n",
       "    <tr>\n",
       "      <th>1</th>\n",
       "      <td>0</td>\n",
       "      <td>0</td>\n",
       "      <td>0</td>\n",
       "      <td>0.0</td>\n",
       "      <td>0</td>\n",
       "      <td>1</td>\n",
       "      <td>0</td>\n",
       "      <td>0</td>\n",
       "      <td>0</td>\n",
       "      <td>0</td>\n",
       "      <td>0</td>\n",
       "      <td>0</td>\n",
       "      <td>0</td>\n",
       "      <td>1</td>\n",
       "    </tr>\n",
       "    <tr>\n",
       "      <th>2</th>\n",
       "      <td>0</td>\n",
       "      <td>0</td>\n",
       "      <td>0</td>\n",
       "      <td>0.0</td>\n",
       "      <td>0</td>\n",
       "      <td>0</td>\n",
       "      <td>0</td>\n",
       "      <td>0</td>\n",
       "      <td>0</td>\n",
       "      <td>0</td>\n",
       "      <td>0</td>\n",
       "      <td>0</td>\n",
       "      <td>0</td>\n",
       "      <td>0</td>\n",
       "    </tr>\n",
       "  </tbody>\n",
       "</table>\n",
       "</div>"
      ],
      "text/plain": [
       "   elective_surgery  apache_post_operative  arf_apache  gcs_unable_apache  \\\n",
       "0                 0                      0           0                0.0   \n",
       "1                 0                      0           0                0.0   \n",
       "2                 0                      0           0                0.0   \n",
       "\n",
       "   intubated_apache  ventilated_apache  aids  cirrhosis  hepatic_failure  \\\n",
       "0                 0                  0     0          0                0   \n",
       "1                 0                  1     0          0                0   \n",
       "2                 0                  0     0          0                0   \n",
       "\n",
       "   immunosuppression  leukemia  lymphoma  solid_tumor_with_metastasis  \\\n",
       "0                  0         0         0                            0   \n",
       "1                  0         0         0                            0   \n",
       "2                  0         0         0                            0   \n",
       "\n",
       "   diabetes_mellitus  \n",
       "0                  1  \n",
       "1                  1  \n",
       "2                  0  "
      ]
     },
     "execution_count": 6,
     "metadata": {},
     "output_type": "execute_result"
    }
   ],
   "source": [
    "df[binary_features].head(3)"
   ]
  },
  {
   "cell_type": "code",
   "execution_count": 7,
   "id": "perfect-confirmation",
   "metadata": {},
   "outputs": [
    {
     "data": {
      "text/plain": [
       "elective_surgery                 0\n",
       "apache_post_operative            0\n",
       "arf_apache                       0\n",
       "gcs_unable_apache              709\n",
       "intubated_apache                 0\n",
       "ventilated_apache                0\n",
       "aids                             0\n",
       "cirrhosis                        0\n",
       "hepatic_failure                  0\n",
       "immunosuppression                0\n",
       "leukemia                         0\n",
       "lymphoma                         0\n",
       "solid_tumor_with_metastasis      0\n",
       "diabetes_mellitus                0\n",
       "dtype: int64"
      ]
     },
     "execution_count": 7,
     "metadata": {},
     "output_type": "execute_result"
    }
   ],
   "source": [
    "df[binary_features].isnull().sum()"
   ]
  },
  {
   "cell_type": "code",
   "execution_count": 10,
   "id": "bulgarian-translator",
   "metadata": {},
   "outputs": [
    {
     "data": {
      "text/plain": [
       "0.0    127967\n",
       "1.0      1481\n",
       "Name: gcs_unable_apache, dtype: int64"
      ]
     },
     "execution_count": 10,
     "metadata": {},
     "output_type": "execute_result"
    }
   ],
   "source": [
    "df['gcs_unable_apache'].value_counts()"
   ]
  },
  {
   "cell_type": "code",
   "execution_count": 13,
   "id": "average-hurricane",
   "metadata": {},
   "outputs": [
    {
     "data": {
      "text/plain": [
       "129448"
      ]
     },
     "execution_count": 13,
     "metadata": {},
     "output_type": "execute_result"
    }
   ],
   "source": [
    "df['gcs_unable_apache'].value_counts().sum()"
   ]
  },
  {
   "cell_type": "code",
   "execution_count": 12,
   "id": "encouraging-royalty",
   "metadata": {},
   "outputs": [
    {
     "data": {
      "text/plain": [
       "0.005477102774859403"
      ]
     },
     "execution_count": 12,
     "metadata": {},
     "output_type": "execute_result"
    }
   ],
   "source": [
    "# Only about 0.5 percent of the entire column is missing\n",
    "df['gcs_unable_apache'].isnull().sum()/df['gcs_unable_apache'].value_counts().sum()"
   ]
  },
  {
   "cell_type": "code",
   "execution_count": 9,
   "id": "sought-louisville",
   "metadata": {},
   "outputs": [
    {
     "data": {
      "image/png": "[encoded data removed]",
      "text/plain": [
       "<Figure size 432x288 with 1 Axes>"
      ]
     },
     "metadata": {},
     "output_type": "display_data"
    }
   ],
   "source": [
    "df['gcs_unable_apache'].value_counts().plot(kind=\"pie\", explode=[0,0.1], autopct=\"%.2f\", labels=[\"No\",\"Yes\"])\n",
    "plt.show()"
   ]
  },
  {
   "cell_type": "code",
   "execution_count": 14,
   "id": "scientific-framework",
   "metadata": {},
   "outputs": [],
   "source": [
    "# Let's impute the gcs_unable_apache variable \n",
    "# Reference: https://s3.amazonaws.com/assets.datacamp.com/production/course_17404/slides/chapter4.pdf\n",
    "\n",
    "from sklearn.preprocessing import OrdinalEncoder\n",
    "# Create Ordinal Encoder\n",
    "\n",
    "gcs_unable_apache_ord_enc = OrdinalEncoder()\n",
    "# Select non-null values in ambience\n",
    "gcs_unable_apache = df['gcs_unable_apache']\n",
    "gcs_unable_apache_not_null = gcs_unable_apache[gcs_unable_apache.notnull()]\n",
    "reshaped_vals = gcs_unable_apache_not_null.values.reshape(-1, 1)\n",
    "# Encode the non-null values of ambience\n",
    "encoded_vals = gcs_unable_apache_ord_enc.fit_transform(reshaped_vals)\n",
    "# Replace the gcs unable apache column with ordinal values\n",
    "df.loc[gcs_unable_apache.notnull(), 'gcs_unable_apache'] = np.squeeze(encoded_vals)"
   ]
  },
  {
   "cell_type": "code",
   "execution_count": null,
   "id": "second-experience",
   "metadata": {},
   "outputs": [],
   "source": [
    "# Create dictionary for Ordinal encoders\n",
    "ordinal_enc_dict = {}\n",
    "# Loop over columns to encode\n",
    "for col_name in users:\n",
    "# Create ordinal encoder for the column\n",
    "ordinal_enc_dict[col_name] = OrdinalEncoder()\n",
    "# Select the nin-null values in the column\n",
    "col = users[col_name]\n",
    "col_not_null = col[col.notnull()]\n",
    "reshaped_vals = col_not_null.values.reshape(-1, 1)\n",
    "# Encode the non-null values of the column\n",
    "encoded_vals = ordinal_enc_dict[col_name].fit_transform(reshaped_vals)"
   ]
  },
  {
   "cell_type": "code",
   "execution_count": 16,
   "id": "handmade-defensive",
   "metadata": {},
   "outputs": [
    {
     "ename": "NameError",
     "evalue": "name 'KNN' is not defined",
     "output_type": "error",
     "traceback": [
      "\u001b[0;31m---------------------------------------------------------------------------\u001b[0m",
      "\u001b[0;31mNameError\u001b[0m                                 Traceback (most recent call last)",
      "\u001b[0;32m<ipython-input-16-932909322988>\u001b[0m in \u001b[0;36m<module>\u001b[0;34m\u001b[0m\n\u001b[1;32m      1\u001b[0m \u001b[0mdf_KNN_imputed\u001b[0m \u001b[0;34m=\u001b[0m \u001b[0mdf\u001b[0m\u001b[0;34m.\u001b[0m\u001b[0mcopy\u001b[0m\u001b[0;34m(\u001b[0m\u001b[0mdeep\u001b[0m\u001b[0;34m=\u001b[0m\u001b[0;32mTrue\u001b[0m\u001b[0;34m)\u001b[0m\u001b[0;34m\u001b[0m\u001b[0;34m\u001b[0m\u001b[0m\n\u001b[1;32m      2\u001b[0m \u001b[0;31m# Create MICE imputer\u001b[0m\u001b[0;34m\u001b[0m\u001b[0;34m\u001b[0m\u001b[0;34m\u001b[0m\u001b[0m\n\u001b[0;32m----> 3\u001b[0;31m \u001b[0mKNN_imputer\u001b[0m \u001b[0;34m=\u001b[0m \u001b[0mKNN\u001b[0m\u001b[0;34m(\u001b[0m\u001b[0;34m)\u001b[0m\u001b[0;34m\u001b[0m\u001b[0;34m\u001b[0m\u001b[0m\n\u001b[0m\u001b[1;32m      4\u001b[0m \u001b[0mdf_KNN_imputed\u001b[0m\u001b[0;34m.\u001b[0m\u001b[0miloc\u001b[0m\u001b[0;34m[\u001b[0m\u001b[0;34m:\u001b[0m\u001b[0;34m,\u001b[0m \u001b[0;34m:\u001b[0m\u001b[0;34m]\u001b[0m \u001b[0;34m=\u001b[0m \u001b[0mnp\u001b[0m\u001b[0;34m.\u001b[0m\u001b[0mround\u001b[0m\u001b[0;34m(\u001b[0m\u001b[0mKNN_imputer\u001b[0m\u001b[0;34m.\u001b[0m\u001b[0mfit_transform\u001b[0m\u001b[0;34m(\u001b[0m\u001b[0mimputed\u001b[0m\u001b[0;34m)\u001b[0m\u001b[0;34m)\u001b[0m\u001b[0;34m\u001b[0m\u001b[0;34m\u001b[0m\u001b[0m\n\u001b[1;32m      5\u001b[0m \u001b[0;34m\u001b[0m\u001b[0m\n",
      "\u001b[0;31mNameError\u001b[0m: name 'KNN' is not defined"
     ]
    }
   ],
   "source": [
    "df_KNN_imputed = df.copy(deep=True)\n",
    "# Create MICE imputer\n",
    "KNN_imputer = KNN()\n",
    "df_KNN_imputed.iloc[:, :] = np.round(KNN_imputer.fit_transform(imputed))\n",
    "\n",
    "reshaped_col = imputed['gcs_unable_apache'].values.reshape(-1, 1)\n",
    "df_KNN_imputed['gcs_unable_apache'] = ordinal_enc['gcs_unable_apache'].inverse_transform(reshaped_col)"
   ]
  }
 ],
 "metadata": {
  "kernelspec": {
   "display_name": "Python 3",
   "language": "python",
   "name": "python3"
  },
  "language_info": {
   "codemirror_mode": {
    "name": "ipython",
    "version": 3
   },
   "file_extension": ".py",
   "mimetype": "text/x-python",
   "name": "python",
   "nbconvert_exporter": "python",
   "pygments_lexer": "ipython3",
   "version": "3.8.5"
  }
 },
 "nbformat": 4,
 "nbformat_minor": 5
}
